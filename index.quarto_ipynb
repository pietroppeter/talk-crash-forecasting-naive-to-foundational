{
  "cells": [
    {
      "cell_type": "raw",
      "metadata": {},
      "source": [
        "---\n",
        "title: A Crash course in Time Series Forecasting from Naive to Foundational\n",
        "# author used as subtitle\n",
        "author: Pietro Peterlongo, Data Scientist @ AgileLab\n",
        "format:\n",
        "  revealjs:\n",
        "    logo: agilelab.png\n",
        "    footer: \"PyCon Lithuania, Vilnius, 250424\"\n",
        "    execute:\n",
        "      echo: true\n",
        "---"
      ],
      "id": "3a8080d6"
    },
    {
      "cell_type": "markdown",
      "metadata": {},
      "source": [
        "## Agenda\n",
        "\n",
        "1. why, domain, data (intro)\n",
        "2. explore, naive, evaluate (basics)\n",
        "3. stats, ml, decompose, transform (workhorse)\n",
        "4. probabilistic, hierarchical (advanced)\n",
        "5. neural, foundational (more)\n",
        "6. refs\n",
        "\n",
        "## 👋 Hi, I am Pietro  👨‍👩‍👧\n",
        "\n",
        "- Data Scientist @ [agilelab.it](agilelab.it) ⚪️🔵\n",
        "  - 📘[handbook](), 🤙[holacracy]() (self-management)\n",
        "- (previously) 8+ years at Software Vendor in Supply Chain\n",
        "- 🐍🇮🇹 Python/PyData Milano [milano.python.it]()\n",
        "- 🐙 [github.com/pietroppeter](github.com/pietroppeter) (👈 more socials 🔗)\n",
        "\n",
        "🎪 Come to PyCon Italy (Bologna, May 29-31)! 🍝\n",
        "\n",
        "## why forecasting?\n",
        "<!--\n",
        "predicting things in the future should be useful, right?\n",
        "- let's make a short list of use cases\n",
        "- and let's try to think about the business value\n",
        "- sales\n",
        "  - predicting my sales allows me to\n",
        "    - plan my investments (should I hire more people?)\n",
        "    - plan my effort (if I predict sales are going down what should I do?)\n",
        "  - predicting my demand\n",
        "    - plan how much product to manifacture, buy or ship\n",
        "    - plan if I have the capacity to satisfy the demand\n",
        "    - reduce inventory or avoid lost sales\n",
        "-->\n",
        "domains\n",
        "\n",
        "- 📈 sales/demand\n",
        "- 🔋 energy consumption\n",
        "- 💹 financial assets\n",
        "- 🌤️ weather\n",
        "- ...\n",
        "\n",
        "where is the (business) value? 💰\n",
        "\n",
        "take better decisions! 💡\n",
        "<!--how do I make things appear later?-->\n",
        "\n",
        "## 🏹 taking time seriously\n",
        "<!--\n",
        "time is the most important dimension in time series forecasting\n",
        "\n",
        "- time frequency\n",
        "- time horizon\n",
        "- lags (watch out for index 0 definition)\n",
        "\n",
        "\n",
        "other dimensions (multiple time series)\n",
        "- e.g. product, market, ...\n",
        "\n",
        "other problems in time series\n",
        "- anomaly detection, classification\n",
        "- forecast initialization\n",
        "-->\n",
        "time is the most important dimension\n",
        "\n",
        "- time frequency (months, weeks, days, hours, ...)\n",
        "- time horizon (how many weeks in the future)?\n",
        "- lag n forecast: the forecast for the n-th time bucket in the future\n",
        "\n",
        "other dimensions (e.g. product, market, ...) usually lead\n",
        "to forecasting _multiple_ time series (or _multivariate_ ones)\n",
        "\n",
        "## hello AirPassengers - legacy\n",
        "\n",
        "<!--\n",
        "- hello world of timeseries forecasting dataset\n",
        "- how to load the timeseries\n",
        "- show the timeseries\n",
        "-->"
      ],
      "id": "231c62ba"
    },
    {
      "cell_type": "code",
      "metadata": {},
      "source": [
        "import polars as pl\n",
        "import plotly.express as px\n",
        "\n",
        "path = \"data/airpassengers/airpassengers.csv\"\n",
        "df = pl.read_csv(path).with_columns(pl.col(\"Month\").str.to_date(\"%Y-%m\"))\n",
        "px.line(df, x=\"Month\", y=\"#Passengers\", height=400)"
      ],
      "id": "ee864a74",
      "execution_count": null,
      "outputs": []
    },
    {
      "cell_type": "markdown",
      "metadata": {},
      "source": [
        "## data AirPassengers (from nixtla)\n",
        "\n",
        "<!--\n",
        "- hello world of timeseries forecasting dataset\n",
        "- how to load the timeseries\n",
        "- show the timeseries\n",
        "-->"
      ],
      "id": "17b56e51"
    },
    {
      "cell_type": "code",
      "metadata": {},
      "source": [
        "import polars as pl\n",
        "\n",
        "url = \"https://datasets-nixtla.s3.amazonaws.com/air-passengers.csv\"\n",
        "air = pl.read_csv(url).with_columns(pl.col(\"ds\").str.to_date())\n",
        "air.head(3)"
      ],
      "id": "1b813296",
      "execution_count": null,
      "outputs": []
    },
    {
      "cell_type": "markdown",
      "metadata": {},
      "source": [
        "## split train test"
      ],
      "id": "7fb9b36d"
    },
    {
      "cell_type": "code",
      "metadata": {},
      "source": [
        "from statsforecast import StatForecast\n",
        "\n",
        "sf = StatForecast()\n",
        "\n",
        "sf.plot(air)"
      ],
      "id": "953f880e",
      "execution_count": null,
      "outputs": []
    }
  ],
  "metadata": {
    "kernelspec": {
      "name": "python3",
      "language": "python",
      "display_name": "Python 3 (ipykernel)",
      "path": "/Users/pietropeterlongo/projects/talk-crash-forecasting-naive-to-foundational/.venv/share/jupyter/kernels/python3"
    }
  },
  "nbformat": 4,
  "nbformat_minor": 5
}